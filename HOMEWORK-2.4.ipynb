{
 "cells": [
  {
   "cell_type": "markdown",
   "id": "1e485d58",
   "metadata": {},
   "source": [
    "[Luke Olmstead]\n",
    "\n",
    "# DA 210 -- Spring 2025 -- Homework 2.4 -- Professor Lavin\n",
    "\n",
    "## Directions \n",
    "\n",
    "1. These questions will _mostly_ focus on tabular data and Pandas, which will likely include new material, as well as some review and deepening of CS-11x.\n",
    "2. Don't forget to add your name above. You can edit the markdown by double-clicking on the cell. \n",
    "3. Save your work often and commit your changes using git/Github Desktop.\n",
    "4. When you are finished, save your work, convert the Jupytext Notebook to .html format, and submit the HTML file on Canvas.\n",
    "5. When you have completed homework 2.1 - 2.4, push your updated repo to Github.com.\n",
    "\n",
    "__Reminders:__ \n",
    "\n",
    "- You are not permitted to get the answers from a classmate or to use Github Copilot, chatGPT, etc. on this homework. These exercises are for practice so, if you use outside help in a way that's not permitted, you are only cheating yourself out of a chance to learn and prepare for future quizzes and tests. \n",
    "- Working with an ARC tutor and visiting our TA's office hours are both permitted, but they should be provide advice and support, and you should not expect them to do your work for you. "
   ]
  },
  {
   "cell_type": "markdown",
   "id": "3da116c3",
   "metadata": {},
   "source": [
    "---\n",
    "\n",
    "## Load Data\n",
    "\n",
    "Copy/paste the following code block to the code cell below and make sure it runs without error:\n",
    "\n",
    "```\n",
    "import pandas as pd \n",
    "\n",
    "# load sample csv\n",
    "df_gss_sample = pd.read_csv('data/gss_sample.csv', index_col=0, low_memory=False, encoding='utf8') \n",
    "\n",
    "# load rows counts of full data\n",
    "gss_full_row_counts = pd.read_csv('data/gss_full_row_counts.csv', index_col=0, low_memory=False, encoding='utf8')\n",
    "\n",
    "# load years per variable data\n",
    "gss_years_per_var = pd.read_csv('meta/gss_data_years_per_var.csv', index_col=0, low_memory=False, encoding='utf8')\n",
    "\n",
    "# load data dictionary\n",
    "gss_data_dictionary =  pd.read_csv('meta/gss_data_dictionary.csv', index_col=0, low_memory=False, encoding='latin1')\n",
    "```"
   ]
  },
  {
   "cell_type": "markdown",
   "id": "5d5d9131",
   "metadata": {},
   "source": [
    "---\n",
    "\n",
    "## Question 1\n",
    "\n",
    "In the code cell below, perform the following steps: \n",
    "\n",
    "1. Using only basic column assignment methods, use the respondent's `age` and `agewed` values in `df_gss_sample` to derive a new column called `years_since_married` that represents the number of years since the respondent was married. \n",
    "2. Using only basic column assignment methods, use the `year` and `years_since_married` variables in `df_gss_sample` to derive a new column called `approx_year_wed` that represents the approximate year the respondent was married. \n",
    "3. Display the first ten rows of the columns `year`, `age`, `agewed`, `marital`, `years_since_married`, and `approx_year_wed` in the DataFrame `df_gss_sample`"
   ]
  },
  {
   "cell_type": "code",
   "execution_count": 13,
   "id": "fa17fad1",
   "metadata": {},
   "outputs": [
    {
     "name": "stdout",
     "output_type": "stream",
     "text": [
      "       year   age  agewed  marital  years_since_married  approx_year_wed\n",
      "1247   1972  68.0    18.0      2.0                 50.0           1922.0\n",
      "31037  1994  33.0     NaN      1.0                  NaN              NaN\n",
      "50404  2006  38.0     NaN      5.0                  NaN              NaN\n",
      "34084  1996  77.0     NaN      2.0                  NaN              NaN\n",
      "38488  2000  26.0     NaN      5.0                  NaN              NaN\n",
      "24889  1989  26.0    22.0      3.0                  4.0           1985.0\n",
      "22793  1988  40.0    22.0      1.0                 18.0           1970.0\n",
      "64359  2018  43.0     NaN      5.0                  NaN              NaN\n",
      "30582  1994  43.0    23.0      3.0                 20.0           1974.0\n",
      "66423  2021  73.0     NaN      2.0                  NaN              NaN\n"
     ]
    }
   ],
   "source": [
    "import pandas as pd \n",
    "\n",
    "# load sample csv\n",
    "df_gss_sample = pd.read_csv('data/gss_sample.csv', index_col=0, low_memory=False, encoding='utf8') \n",
    "\n",
    "# load rows counts of full data\n",
    "gss_full_row_counts = pd.read_csv('data/gss_full_row_counts.csv', index_col=0, low_memory=False, encoding='utf8')\n",
    "\n",
    "# load years per variable data\n",
    "gss_years_per_var = pd.read_csv('meta/gss_data_years_per_var.csv', index_col=0, low_memory=False, encoding='utf8')\n",
    "\n",
    "# load data dictionary\n",
    "gss_data_dictionary =  pd.read_csv('meta/gss_data_dictionary.csv', index_col=0, low_memory=False, encoding='latin1')\n",
    "\n",
    "\n",
    "df_gss_sample['years_since_married'] = df_gss_sample['age'] - df_gss_sample['agewed']\n",
    "\n",
    "df_gss_sample['approx_year_wed'] = df_gss_sample['year'] - df_gss_sample['years_since_married']\n",
    "\n",
    "print(df_gss_sample[['year', 'age', 'agewed', 'marital', 'years_since_married', 'approx_year_wed']].head(10))\n"
   ]
  },
  {
   "cell_type": "markdown",
   "id": "ee8d88ba",
   "metadata": {},
   "source": [
    "---\n",
    "\n",
    "## Question 2\n",
    "\n",
    "In the code cell below, perform the following steps: \n",
    "\n",
    "1. Write a function called `translate_regions` that takes a `DataFrame` row as its input. Assuming that the input `DataFrame` has the exact structure of `df_gss_sample`, write the function so that it converts each numerical code in the `reg16` and `region` columns respectively into their appropriate semantic/string categories.\n",
    "2. Call the function on `df_gss_sample` using the `apply()` method and capture the results as new columns in `df_gss_sample` called `reg16_trans` and `region_trans` respectively.\n",
    "3. Display the first ten rows of the columns `reg16`, `region`, `reg16_trans`, and `region_trans` in the DataFrame `df_gss_sample`\n",
    "\n",
    "__Hint:__ Use the`regions` dictionary in the code cell below in your function. You may also need to handle some cases where the column value is not found in the dictionary."
   ]
  },
  {
   "cell_type": "code",
   "execution_count": 60,
   "id": "11211f62",
   "metadata": {},
   "outputs": [
    {
     "name": "stdout",
     "output_type": "stream",
     "text": [
      "       reg16  region         reg16_trans        region_trans\n",
      "1247     2.0       5     middle atlantic      south atlantic\n",
      "31037    5.0       5      south atlantic      south atlantic\n",
      "50404    7.0       7  west south central  west south central\n",
      "34084    5.0       5      south atlantic      south atlantic\n",
      "38488    2.0       9     middle atlantic             pacific\n",
      "24889    8.0       8            mountain            mountain\n",
      "22793    5.0       5      south atlantic      south atlantic\n",
      "64359    7.0       7  west south central  west south central\n",
      "30582    2.0       2     middle atlantic     middle atlantic\n",
      "66423    3.0       3  east north central  east north central\n"
     ]
    }
   ],
   "source": [
    "regions = {0: 'foreign', 1: 'new england', 2: 'middle atlantic', 3: 'east north central',  4: 'west north central', 5: 'south atlantic', 6: 'east south atlantic', 7: 'west south central', 8: 'mountain', 9: 'pacific'}\n",
    "\n",
    "def translate_regions(row):\n",
    "    reg16_trans = regions.get(row['reg16'], \"Unknown\") if pd.notna(row['reg16']) else \"Unknown\"\n",
    "    region_trans = regions.get(row['region'], \"Unknown\") if pd.notna(row['region']) else \"Unknown\"\n",
    "    return pd.Series([reg16_trans, region_trans])\n",
    "\n",
    "df_gss_sample[['reg16_trans', 'region_trans']] = df_gss_sample.apply(translate_regions, axis=1)\n",
    "\n",
    "print(df_gss_sample[['reg16', 'region', 'reg16_trans', 'region_trans']].head(10))"
   ]
  },
  {
   "cell_type": "markdown",
   "id": "c99fbc26",
   "metadata": {},
   "source": [
    "---\n",
    "\n",
    "## Question 3\n",
    "\n",
    "In the code cell below, perform the following steps: \n",
    "\n",
    "1. Subset the `df_gss_sample` DataFrame so that you are working only with the `prestg10` and `sibs` columns.\n",
    "2. Using `groupby` and `agg` methods, group your subset DataFrame on the respondent's number of siblings and display summary columns for: (a) the mean `prestg10` for each `sibs` count; and (2) the number of rows (n) used for each mean value.\n",
    "3. Display all 28 rows of the grouped and aggregated DataFrame in the code cell below\n",
    "4. In the markdown cell below, explain whether the mean `prestg10` scores suggest a relationship between professional prestige and number of siblings.\n"
   ]
  },
  {
   "cell_type": "code",
   "execution_count": 55,
   "id": "576db4cc",
   "metadata": {},
   "outputs": [
    {
     "name": "stdout",
     "output_type": "stream",
     "text": [
      " sibs  mean_prestg10   n\n",
      "  0.0      47.315476 168\n",
      "  1.0      45.131059 557\n",
      "  2.0      45.145234 661\n",
      "  3.0      43.897727 528\n",
      "  4.0      42.340050 397\n",
      "  5.0      42.086275 255\n",
      "  6.0      43.210000 200\n",
      "  7.0      39.595506 178\n",
      "  8.0      41.018868 106\n",
      "  9.0      38.282051  78\n",
      " 10.0      37.942857  35\n",
      " 11.0      37.488372  43\n",
      " 12.0      38.615385  26\n",
      " 13.0      40.500000  20\n",
      " 14.0      38.454545  11\n",
      " 15.0      41.125000   8\n",
      " 16.0      33.000000   4\n",
      " 17.0      33.666667   3\n",
      " 18.0      43.000000   2\n",
      " 19.0      46.000000   1\n",
      " 21.0      31.500000   2\n",
      " 22.0            NaN   0\n",
      " 23.0      52.000000   1\n",
      " 24.0      40.000000   1\n",
      " 25.0      48.000000   1\n",
      " 27.0      28.000000   1\n"
     ]
    }
   ],
   "source": [
    "subset = df_gss_sample[['prestg10', 'sibs']]\n",
    "\n",
    "sibs = subset.groupby('sibs').agg(mean_prestg10=('prestg10', 'mean'), n=('prestg10', 'count')).reset_index()\n",
    "\n",
    "print(sibs.to_string(index=False))"
   ]
  },
  {
   "cell_type": "markdown",
   "id": "6df5215d-e9b8-4f8c-b61d-3f8ddec5bd2d",
   "metadata": {},
   "source": [
    "The data above suggests that there may be a slight negative relationship between the number of siblings and professional prestige prestg10. As the number of siblings increases, the mean prestg10 score decreases. For example, individuals with no siblings have a higher mean prestige score of 47.3, while those with more than 10 siblings have lower scores, with the mean dropping to 28 for 27 siblings. A possible factor that influences this relationship between the number of siblings and prestg10 could be resource allocation within families. Larger families may face greater and higher financial constraints, leading to less access to education or career development. With more siblings, the family's resources such as, time and money may be spread thinner, potentially limiting opportunities for higher education, which would lead to lower prestige occupations. "
   ]
  },
  {
   "cell_type": "markdown",
   "id": "4fc3c685",
   "metadata": {},
   "source": [
    "---\n",
    "\n",
    "## Question 4\n",
    "\n",
    "In the code cell below, perform the following steps: \n",
    "\n",
    "1. Building on Question 3, alter your subset from the `df_gss_sample` DataFrame so that you are working with the `fund16` column (how fundamentalist was the respondent at age 16), in addition to the `prestg10` and `sibs` columns.\n",
    "2. Using `groupby` and `agg` methods, group the subset DataFrame on the `sibs` column, and subgroup on the `fund16` column. Display summary columns for: (a) the mean `prestg10` for each `sibs` count; and (b) the number of rows (n) used for each mean value for each combination of `fund16` and `sibs` values. \n",
    "3. Display the entirety of the grouped and aggregated DataFrame in the code cell below\n",
    "4. In the markdown cell below, explain how controlling for religiousity in this way affects your interpretation of the association between professional prestige and number of siblings."
   ]
  },
  {
   "cell_type": "code",
   "execution_count": 46,
   "id": "e738b4a6",
   "metadata": {},
   "outputs": [
    {
     "name": "stdout",
     "output_type": "stream",
     "text": [
      " sibs  fund16  mean_prestg10   n\n",
      "  0.0     1.0      44.900000  40\n",
      "  0.0     2.0      46.523810  63\n",
      "  0.0     3.0      50.264151  53\n",
      "  1.0     1.0      43.687023 131\n",
      "  1.0     2.0      43.867220 241\n",
      "  1.0     3.0      48.164474 152\n",
      "  2.0     1.0      43.312500 160\n",
      "  2.0     2.0      44.921053 304\n",
      "  2.0     3.0      46.857955 176\n",
      "  3.0     1.0      42.520958 167\n",
      "  3.0     2.0      43.792793 222\n",
      "  3.0     3.0      45.387387 111\n",
      "  4.0     1.0      40.881890 127\n",
      "  4.0     2.0      42.721311 183\n",
      "  4.0     3.0      43.312500  64\n",
      "  5.0     1.0      41.670732  82\n",
      "  5.0     2.0      40.992000 125\n",
      "  5.0     3.0      45.454545  33\n",
      "  6.0     1.0      42.477612  67\n",
      "  6.0     2.0      44.337079  89\n",
      "  6.0     3.0      41.696970  33\n",
      "  7.0     1.0      38.054545  55\n",
      "  7.0     2.0      40.107692  65\n",
      "  7.0     3.0      42.433333  30\n",
      "  8.0     1.0      39.024390  41\n",
      "  8.0     2.0      42.644444  45\n",
      "  8.0     3.0      39.000000  14\n",
      "  9.0     1.0      38.354839  31\n",
      "  9.0     2.0      36.885714  35\n",
      "  9.0     3.0      43.000000  11\n",
      " 10.0     1.0      41.684211  19\n",
      " 10.0     2.0      29.454545  11\n",
      " 10.0     3.0      46.750000   4\n",
      " 11.0     1.0      39.880000  25\n",
      " 11.0     2.0      35.916667  12\n",
      " 11.0     3.0      30.600000   5\n",
      " 12.0     1.0      37.142857  14\n",
      " 12.0     2.0      42.875000   8\n",
      " 12.0     3.0      35.250000   4\n",
      " 13.0     1.0      42.400000  10\n",
      " 13.0     2.0      35.888889   9\n",
      " 14.0     1.0      37.166667   6\n",
      " 14.0     2.0      40.000000   5\n",
      " 15.0     1.0      30.000000   2\n",
      " 15.0     2.0      44.833333   6\n",
      " 16.0     1.0      29.500000   2\n",
      " 16.0     2.0      36.500000   2\n",
      " 17.0     1.0      38.000000   2\n",
      " 17.0     2.0      25.000000   1\n",
      " 18.0     1.0      43.000000   2\n",
      " 19.0     1.0      46.000000   1\n",
      " 21.0     1.0      38.000000   1\n",
      " 21.0     2.0      25.000000   1\n",
      " 22.0     2.0            NaN   0\n",
      " 23.0     3.0      52.000000   1\n",
      " 24.0     2.0      40.000000   1\n",
      " 27.0     2.0      28.000000   1\n"
     ]
    }
   ],
   "source": [
    "subset = df_gss_sample[['prestg10', 'sibs', 'fund16']]\n",
    "\n",
    "groups = subset.groupby(['sibs', 'fund16']).agg(mean_prestg10=('prestg10', 'mean'), n=('prestg10', 'count') ).reset_index()\n",
    "\n",
    "print(groups.to_string(index=False))"
   ]
  },
  {
   "cell_type": "markdown",
   "id": "fce3ac27",
   "metadata": {},
   "source": [
    "Controlling for religiosity allows us to better understand how it influences the relationship between professional prestige and the number of siblings. By accounting for religiosity, we can see if the association between these two variables is directly influenced by religious beliefs or practices. This helps clarify whether the relationship between professional prestige and the number of siblings is stronger or weaker depending on someone's religious background, offering a more accurate interpretation of the data. Religion might play a part because religious beliefs and practices can shape family dynamics, values, and decisions about having children. Some religious traditions encourage larger families, which could influence the number of siblings a person has. Additionally, religion may impact career choices or views on professional success, potentially affecting how individuals prioritize professional prestige. By controlling for religiosity, we can account for these factors, allowing for a clearer understanding of the relationship between professional prestige and the number of siblings without the influence of religious beliefs.\n"
   ]
  },
  {
   "cell_type": "code",
   "execution_count": null,
   "id": "af2eeb26-5ecd-462e-bba0-a3c17eb2585b",
   "metadata": {},
   "outputs": [],
   "source": []
  }
 ],
 "metadata": {
  "jupytext": {
   "formats": "md,ipynb"
  },
  "kernelspec": {
   "display_name": "Python [conda env:base] *",
   "language": "python",
   "name": "conda-base-py"
  },
  "language_info": {
   "codemirror_mode": {
    "name": "ipython",
    "version": 3
   },
   "file_extension": ".py",
   "mimetype": "text/x-python",
   "name": "python",
   "nbconvert_exporter": "python",
   "pygments_lexer": "ipython3",
   "version": "3.12.7"
  }
 },
 "nbformat": 4,
 "nbformat_minor": 5
}
