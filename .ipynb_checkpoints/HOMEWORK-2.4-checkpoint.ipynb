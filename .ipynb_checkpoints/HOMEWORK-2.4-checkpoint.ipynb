{
 "cells": [
  {
   "cell_type": "markdown",
   "id": "1e485d58",
   "metadata": {},
   "source": [
    "[Your Name Here]\n",
    "\n",
    "# DA 210 -- Spring 2025 -- Homework 2.4 -- Professor Lavin\n",
    "\n",
    "## Directions \n",
    "\n",
    "1. These questions will _mostly_ focus on tabular data and Pandas, which will likely include new material, as well as some review and deepening of CS-11x.\n",
    "2. Don't forget to add your name above. You can edit the markdown by double-clicking on the cell. \n",
    "3. Save your work often and commit your changes using git/Github Desktop.\n",
    "4. When you are finished, save your work, convert the Jupytext Notebook to .html format, and submit the HTML file on Canvas.\n",
    "5. When you have completed homework 2.1 - 2.4, push your updated repo to Github.com.\n",
    "\n",
    "__Reminders:__ \n",
    "\n",
    "- You are not permitted to get the answers from a classmate or to use Github Copilot, chatGPT, etc. on this homework. These exercises are for practice so, if you use outside help in a way that's not permitted, you are only cheating yourself out of a chance to learn and prepare for future quizzes and tests. \n",
    "- Working with an ARC tutor and visiting our TA's office hours are both permitted, but they should be provide advice and support, and you should not expect them to do your work for you. "
   ]
  },
  {
   "cell_type": "markdown",
   "id": "3da116c3",
   "metadata": {},
   "source": [
    "---\n",
    "\n",
    "## Load Data\n",
    "\n",
    "Copy/paste the following code block to the code cell below and make sure it runs without error:\n",
    "\n",
    "```\n",
    "import pandas as pd \n",
    "\n",
    "# load sample csv\n",
    "df_gss_sample = pd.read_csv('data/gss_sample.csv', index_col=0, low_memory=False, encoding='utf8') \n",
    "\n",
    "# load rows counts of full data\n",
    "gss_full_row_counts = pd.read_csv('data/gss_full_row_counts.csv', index_col=0, low_memory=False, encoding='utf8')\n",
    "\n",
    "# load years per variable data\n",
    "gss_years_per_var = pd.read_csv('meta/gss_data_years_per_var.csv', index_col=0, low_memory=False, encoding='utf8')\n",
    "\n",
    "# load data dictionary\n",
    "gss_data_dictionary =  pd.read_csv('meta/gss_data_dictionary.csv', index_col=0, low_memory=False, encoding='latin1')\n",
    "```"
   ]
  },
  {
   "cell_type": "markdown",
   "id": "5d5d9131",
   "metadata": {},
   "source": [
    "---\n",
    "\n",
    "## Question 1\n",
    "\n",
    "In the code cell below, perform the following steps: \n",
    "\n",
    "1. Using only basic column assignment methods, use the respondent's `age` and `agewed` values in `df_gss_sample` to derive a new column called `years_since_married` that represents the number of years since the respondent was married. \n",
    "2. Using only basic column assignment methods, use the `year` and `years_since_married` variables in `df_gss_sample` to derive a new column called `approx_year_wed` that represents the approximate year the respondent was married. \n",
    "3. Display the first ten rows of the columns `year`, `age`, `agewed`, `marital`, `years_since_married`, and `approx_year_wed` in the DataFrame `df_gss_sample`"
   ]
  },
  {
   "cell_type": "code",
   "execution_count": 11,
   "id": "fa17fad1",
   "metadata": {},
   "outputs": [
    {
     "name": "stdout",
     "output_type": "stream",
     "text": [
      "       year   age  agewed  marital  years_since_married  approx_year_wed\n",
      "1247   1972  68.0    18.0      2.0                 50.0           1922.0\n",
      "31037  1994  33.0     NaN      1.0                  NaN              NaN\n",
      "50404  2006  38.0     NaN      5.0                  NaN              NaN\n",
      "34084  1996  77.0     NaN      2.0                  NaN              NaN\n",
      "38488  2000  26.0     NaN      5.0                  NaN              NaN\n",
      "24889  1989  26.0    22.0      3.0                  4.0           1985.0\n",
      "22793  1988  40.0    22.0      1.0                 18.0           1970.0\n",
      "64359  2018  43.0     NaN      5.0                  NaN              NaN\n",
      "30582  1994  43.0    23.0      3.0                 20.0           1974.0\n",
      "66423  2021  73.0     NaN      2.0                  NaN              NaN\n"
     ]
    }
   ],
   "source": [
    "import pandas as pd \n",
    "\n",
    "# load sample csv\n",
    "df_gss_sample = pd.read_csv('data/gss_sample.csv', index_col=0, low_memory=False, encoding='utf8') \n",
    "\n",
    "# load rows counts of full data\n",
    "gss_full_row_counts = pd.read_csv('data/gss_full_row_counts.csv', index_col=0, low_memory=False, encoding='utf8')\n",
    "\n",
    "# load years per variable data\n",
    "gss_years_per_var = pd.read_csv('meta/gss_data_years_per_var.csv', index_col=0, low_memory=False, encoding='utf8')\n",
    "\n",
    "# load data dictionary\n",
    "gss_data_dictionary =  pd.read_csv('meta/gss_data_dictionary.csv', index_col=0, low_memory=False, encoding='latin1')\n",
    "\n",
    "\n",
    "df_gss_sample['years_since_married'] = df_gss_sample['age'] - df_gss_sample['agewed']\n",
    "\n",
    "df_gss_sample['approx_year_wed'] = df_gss_sample['year'] - df_gss_sample['years_since_married']\n",
    "\n",
    "print(df_gss_sample[['year', 'age', 'agewed', 'marital', 'years_since_married', 'approx_year_wed']].head(10))\n"
   ]
  },
  {
   "cell_type": "markdown",
   "id": "ee8d88ba",
   "metadata": {},
   "source": [
    "---\n",
    "\n",
    "## Question 2\n",
    "\n",
    "In the code cell below, perform the following steps: \n",
    "\n",
    "1. Write a function called `translate_regions` that takes a `DataFrame` row as its input. Assuming that the input `DataFrame` has the exact structure of `df_gss_sample`, write the function so that it converts each numerical code in the `reg16` and `region` columns respectively into their appropriate semantic/string categories.\n",
    "2. Call the function on `df_gss_sample` using the `apply()` method and capture the results as new columns in `df_gss_sample` called `reg16_trans` and `region_trans` respectively.\n",
    "3. Display the first ten rows of the columns `reg16`, `region`, `reg16_trans`, and `region_trans` in the DataFrame `df_gss_sample`\n",
    "\n",
    "__Hint:__ Use the`regions` dictionary in the code cell below in your function. You may also need to handle some cases where the column value is not found in the dictionary."
   ]
  },
  {
   "cell_type": "code",
   "execution_count": null,
   "id": "11211f62",
   "metadata": {},
   "outputs": [],
   "source": [
    "# your code here "
   ]
  },
  {
   "cell_type": "markdown",
   "id": "c99fbc26",
   "metadata": {},
   "source": [
    "---\n",
    "\n",
    "## Question 3\n",
    "\n",
    "In the code cell below, perform the following steps: \n",
    "\n",
    "1. Subset the `df_gss_sample` DataFrame so that you are working only with the `prestg10` and `sibs` columns.\n",
    "2. Using `groupby` and `agg` methods, group your subset DataFrame on the respondent's number of siblings and display summary columns for: (a) the mean `prestg10` for each `sibs` count; and (2) the number of rows (n) used for each mean value.\n",
    "3. Display all 28 rows of the grouped and aggregated DataFrame in the code cell below\n",
    "4. In the markdown cell below, explain whether the mean `prestg10` scores suggest a relationship between professional prestige and number of siblings.\n"
   ]
  },
  {
   "cell_type": "code",
   "execution_count": null,
   "id": "576db4cc",
   "metadata": {},
   "outputs": [],
   "source": [
    "# your code here "
   ]
  },
  {
   "cell_type": "code",
   "execution_count": null,
   "id": "be4bbd6a",
   "metadata": {},
   "outputs": [],
   "source": [
    "[Your markdown here]"
   ]
  },
  {
   "cell_type": "markdown",
   "id": "4fc3c685",
   "metadata": {},
   "source": [
    "---\n",
    "\n",
    "## Question 4\n",
    "\n",
    "In the code cell below, perform the following steps: \n",
    "\n",
    "1. Building on Question 3, alter your subset from the `df_gss_sample` DataFrame so that you are working with the `fund16` column (how fundamentalist was the respondent at age 16), in addition to the `prestg10` and `sibs` columns.\n",
    "2. Using `groupby` and `agg` methods, group the subset DataFrame on the `sibs` column, and subgroup on the `fund16` column. Display summary columns for: (a) the mean `prestg10` for each `sibs` count; and (b) the number of rows (n) used for each mean value for each combination of `fund16` and `sibs` values. \n",
    "3. Display the entirety of the grouped and aggregated DataFrame in the code cell below\n",
    "4. In the markdown cell below, explain how controlling for religiousity in this way affects your interpretation of the association between professional prestige and number of siblings."
   ]
  },
  {
   "cell_type": "code",
   "execution_count": null,
   "id": "e738b4a6",
   "metadata": {},
   "outputs": [],
   "source": [
    "# your code here "
   ]
  },
  {
   "cell_type": "markdown",
   "id": "fce3ac27",
   "metadata": {},
   "source": [
    "[Your markdown here]"
   ]
  }
 ],
 "metadata": {
  "jupytext": {
   "formats": "md,ipynb"
  },
  "kernelspec": {
   "display_name": "Python [conda env:base] *",
   "language": "python",
   "name": "conda-base-py"
  },
  "language_info": {
   "codemirror_mode": {
    "name": "ipython",
    "version": 3
   },
   "file_extension": ".py",
   "mimetype": "text/x-python",
   "name": "python",
   "nbconvert_exporter": "python",
   "pygments_lexer": "ipython3",
   "version": "3.12.7"
  }
 },
 "nbformat": 4,
 "nbformat_minor": 5
}
